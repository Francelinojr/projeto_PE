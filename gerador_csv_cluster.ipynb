{
 "cells": [
  {
   "cell_type": "code",
   "execution_count": 93,
   "id": "08e71041",
   "metadata": {},
   "outputs": [],
   "source": [
    "from sklearn.datasets import make_blobs\n",
    "import matplotlib.pyplot as plt\n",
    "import pandas as pd"
   ]
  },
  {
   "cell_type": "code",
   "execution_count": 94,
   "id": "3924176b",
   "metadata": {},
   "outputs": [],
   "source": [
    "features, clusters = make_blobs(n_samples = 200, n_features = 2, centers = 3, cluster_std = 1.6, shuffle = True)"
   ]
  },
  {
   "cell_type": "code",
   "execution_count": 95,
   "id": "7ed0b2ea",
   "metadata": {
    "scrolled": true
   },
   "outputs": [
    {
     "name": "stdout",
     "output_type": "stream",
     "text": [
      "Feature Matrix: \n",
      "     Feature 1  Feature 2\n",
      "0     1.842762  -5.641018\n",
      "1     5.136471   4.317075\n",
      "2    -0.979182  -6.830356\n",
      "3    -2.555381   3.117357\n",
      "4     6.405453   3.408893\n",
      "..         ...        ...\n",
      "195  -6.407465   4.426842\n",
      "196  -6.449333   6.298634\n",
      "197   4.113653   6.119136\n",
      "198   4.960615   1.749718\n",
      "199  -6.657046   6.181726\n",
      "\n",
      "[200 rows x 2 columns]\n"
     ]
    }
   ],
   "source": [
    "print(\"Feature Matrix: \");\n",
    "print(pd.DataFrame(features, columns=[\"Feature 1\", \"Feature 2\"]))\n",
    "df = pd.DataFrame(features, columns=[\"Feature 1\", \"Feature 2\"])"
   ]
  },
  {
   "cell_type": "code",
   "execution_count": 96,
   "id": "c4a71f34",
   "metadata": {},
   "outputs": [
    {
     "data": {
      "image/png": "[encoded data removed]",
      "text/plain": [
       "<Figure size 640x480 with 1 Axes>"
      ]
     },
     "metadata": {},
     "output_type": "display_data"
    }
   ],
   "source": [
    "plt.scatter(features[:,0], features[:,1])\n",
    "plt.show()"
   ]
  },
  {
   "cell_type": "code",
   "execution_count": 97,
   "id": "d6e1f85b",
   "metadata": {},
   "outputs": [
    {
     "data": {
      "text/html": [
       "<div>\n",
       "<style scoped>\n",
       "    .dataframe tbody tr th:only-of-type {\n",
       "        vertical-align: middle;\n",
       "    }\n",
       "\n",
       "    .dataframe tbody tr th {\n",
       "        vertical-align: top;\n",
       "    }\n",
       "\n",
       "    .dataframe thead th {\n",
       "        text-align: right;\n",
       "    }\n",
       "</style>\n",
       "<table border=\"1\" class=\"dataframe\">\n",
       "  <thead>\n",
       "    <tr style=\"text-align: right;\">\n",
       "      <th></th>\n",
       "      <th>Feature 1</th>\n",
       "      <th>Feature 2</th>\n",
       "    </tr>\n",
       "  </thead>\n",
       "  <tbody>\n",
       "    <tr>\n",
       "      <th>0</th>\n",
       "      <td>1.842762</td>\n",
       "      <td>-5.641018</td>\n",
       "    </tr>\n",
       "    <tr>\n",
       "      <th>1</th>\n",
       "      <td>5.136471</td>\n",
       "      <td>4.317075</td>\n",
       "    </tr>\n",
       "    <tr>\n",
       "      <th>2</th>\n",
       "      <td>-0.979182</td>\n",
       "      <td>-6.830356</td>\n",
       "    </tr>\n",
       "    <tr>\n",
       "      <th>3</th>\n",
       "      <td>-2.555381</td>\n",
       "      <td>3.117357</td>\n",
       "    </tr>\n",
       "    <tr>\n",
       "      <th>4</th>\n",
       "      <td>6.405453</td>\n",
       "      <td>3.408893</td>\n",
       "    </tr>\n",
       "    <tr>\n",
       "      <th>...</th>\n",
       "      <td>...</td>\n",
       "      <td>...</td>\n",
       "    </tr>\n",
       "    <tr>\n",
       "      <th>195</th>\n",
       "      <td>-6.407465</td>\n",
       "      <td>4.426842</td>\n",
       "    </tr>\n",
       "    <tr>\n",
       "      <th>196</th>\n",
       "      <td>-6.449333</td>\n",
       "      <td>6.298634</td>\n",
       "    </tr>\n",
       "    <tr>\n",
       "      <th>197</th>\n",
       "      <td>4.113653</td>\n",
       "      <td>6.119136</td>\n",
       "    </tr>\n",
       "    <tr>\n",
       "      <th>198</th>\n",
       "      <td>4.960615</td>\n",
       "      <td>1.749718</td>\n",
       "    </tr>\n",
       "    <tr>\n",
       "      <th>199</th>\n",
       "      <td>-6.657046</td>\n",
       "      <td>6.181726</td>\n",
       "    </tr>\n",
       "  </tbody>\n",
       "</table>\n",
       "<p>200 rows × 2 columns</p>\n",
       "</div>"
      ],
      "text/plain": [
       "     Feature 1  Feature 2\n",
       "0     1.842762  -5.641018\n",
       "1     5.136471   4.317075\n",
       "2    -0.979182  -6.830356\n",
       "3    -2.555381   3.117357\n",
       "4     6.405453   3.408893\n",
       "..         ...        ...\n",
       "195  -6.407465   4.426842\n",
       "196  -6.449333   6.298634\n",
       "197   4.113653   6.119136\n",
       "198   4.960615   1.749718\n",
       "199  -6.657046   6.181726\n",
       "\n",
       "[200 rows x 2 columns]"
      ]
     },
     "execution_count": 97,
     "metadata": {},
     "output_type": "execute_result"
    }
   ],
   "source": [
    "df"
   ]
  },
  {
   "cell_type": "code",
   "execution_count": 100,
   "id": "51a4534b",
   "metadata": {},
   "outputs": [],
   "source": [
    "df.to_csv('C:/Users/igofe/Downloads/file_name.csv')"
   ]
  }
 ],
 "metadata": {
  "kernelspec": {
   "display_name": "Python 3 (ipykernel)",
   "language": "python",
   "name": "python3"
  },
  "language_info": {
   "codemirror_mode": {
    "name": "ipython",
    "version": 3
   },
   "file_extension": ".py",
   "mimetype": "text/x-python",
   "name": "python",
   "nbconvert_exporter": "python",
   "pygments_lexer": "ipython3",
   "version": "3.9.13"
  }
 },
 "nbformat": 4,
 "nbformat_minor": 5
}
